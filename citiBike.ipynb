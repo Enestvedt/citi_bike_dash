{
 "cells": [
  {
   "cell_type": "code",
   "execution_count": 1,
   "source": [
    "# dependencies\n",
    "import pandas as pd\n",
    "import os\n",
    "# import re\n",
    "# from functools import reduce\n",
    "from datetime import datetime\n"
   ],
   "outputs": [],
   "metadata": {}
  },
  {
   "cell_type": "code",
   "execution_count": 2,
   "source": [
    "# set the year of the csv files\n",
    "search_year = \"2019\""
   ],
   "outputs": [],
   "metadata": {}
  },
  {
   "cell_type": "code",
   "execution_count": 3,
   "source": [
    "# file directory to import from - this returns file names from the directory\n",
    "data_files = os.listdir('monthly_data/' + search_year + '_monthly_files')\n",
    "data_files.sort()"
   ],
   "outputs": [],
   "metadata": {}
  },
  {
   "cell_type": "markdown",
   "source": [
    "# Files are too large for Tableau\n",
    "1. create a function for station data starts and a function for station ending data\n",
    "2. each function iterates through each month\n",
    "3. each function yields a limited number of columns\n",
    "4. each function concatenates the limited data into one df\n",
    "5. merge the two dataframes\n",
    "6. export to csv\n",
    "7. load into Tableau as a manageable filesize"
   ],
   "metadata": {}
  },
  {
   "cell_type": "code",
   "execution_count": 4,
   "source": [
    "# date formats changed in 2021, so there are two data parsers\n",
    "def new_date_parser(x): return datetime.strptime(x, \"%Y-%m-%d %H:%M:%S\")\n",
    "def old_date_parser(x): return datetime.strptime(x, \"%Y-%m-%d %H:%M:%S.%f\")\n",
    "\n",
    "# columns changed in 2021, these are the new columns - use to rename old columns with new names\n",
    "map_old_cols = [\n",
    "    'trip_duration',\n",
    "    'started_at',\n",
    "    'ended_at',\n",
    "    'start_station_id',\n",
    "    'start_station_name',\n",
    "    'start_lat',\n",
    "    'start_lng',\n",
    "    'end_station_id',\n",
    "    'end_station_name',\n",
    "    'end_lat',\n",
    "    'end_lng',\n",
    "    'bike_id',\n",
    "    'member_casual',\n",
    "    'birth_year',\n",
    "    'gender'\n",
    "]\n",
    "\n",
    "# generator function to import data from csv files and union all files\n",
    "def load_files(data_files):\n",
    "    for file in data_files:\n",
    "        # if file is older than Februay 2021\n",
    "        if file < \"202102\": \n",
    "            yield(\n",
    "            pd.read_csv('monthly_data/' +search_year + '_monthly_files/' + file,\n",
    "                names=map_old_cols,\n",
    "                header=0,\n",
    "                index_col=False,\n",
    "                dtype={'start_station_id': str, 'end_station_id': str},\n",
    "                usecols= ['started_at', 'ended_at', 'start_station_id', 'end_station_id'],\n",
    "                parse_dates= ['started_at', 'ended_at'],\n",
    "                date_parser= old_date_parser)\n",
    "            )\n",
    "\n",
    "        else:\n",
    "            yield(\n",
    "                pd.read_csv('monthly_data/' +search_year + '_monthly_files/' + file,\n",
    "                dtype={'start_station_id': str, 'end_station_id': str},\n",
    "                usecols= ['started_at', 'ended_at', 'start_station_id', 'start_station_name', 'start_lat', 'start_lng', 'end_station_id', 'end_lat', 'end_lng'],\n",
    "                parse_dates= ['started_at', 'ended_at'],\n",
    "                date_parser= new_date_parser)\n",
    "            )\n",
    "\n",
    "# generator function to group station arrrival and departure counts\n",
    "def starts_data(agg_data):\n",
    "    for data in agg_data:\n",
    "        yield(\n",
    "            data.groupby([data.started_at.dt.date, data['start_station_id']])['start_station_id'].count().reset_index(name=\"departures\")\n",
    "        )\n",
    "\n",
    "\n",
    "def ends_data(agg_data):\n",
    "    for data in agg_data:\n",
    "        yield(\n",
    "            data.groupby([data.started_at.dt.date, data['end_station_id']])[\n",
    "                'end_station_id'].count().reset_index(name=\"arrivals\")\n",
    "        )\n",
    "\n",
    "station_starts = pd.DataFrame(pd.concat(starts_data(load_files(data_files))))\n",
    "station_ends = pd.DataFrame(pd.concat(ends_data(load_files(data_files))))\n",
    "\n",
    "# merged_data = pd.merge(station_starts,station_ends, how='left',left_on=['started_at','start_station_id'],right_on=['started_at','end_station_id'])\n",
    "# merged_data = merged_data.drop(columns=['end_station_id'])\n"
   ],
   "outputs": [],
   "metadata": {}
  },
  {
   "cell_type": "code",
   "execution_count": 5,
   "source": [
    "# merge the starting station data with the ending station data\n",
    "merged_data = pd.merge(station_starts,station_ends, how='left',left_on=['started_at','start_station_id'],right_on=['started_at','end_station_id'])\n",
    "merged_data = merged_data.drop(columns=['end_station_id'])\n",
    "merged_data.shape"
   ],
   "outputs": [
    {
     "output_type": "execute_result",
     "data": {
      "text/plain": [
       "(286445, 4)"
      ]
     },
     "metadata": {},
     "execution_count": 5
    }
   ],
   "metadata": {}
  },
  {
   "cell_type": "code",
   "execution_count": 6,
   "source": [
    "merged_data.to_csv('annual_data/' + search_year + '_station_data.csv', index = False)"
   ],
   "outputs": [],
   "metadata": {}
  }
 ],
 "metadata": {
  "interpreter": {
   "hash": "ea77cb9fe7978b55bc0ec2e367e0d48a6f99004a47c1304b13a742f944930449"
  },
  "kernelspec": {
   "name": "python3",
   "display_name": "Python 3.8.11 64-bit ('PythonData': conda)"
  },
  "language_info": {
   "codemirror_mode": {
    "name": "ipython",
    "version": 3
   },
   "file_extension": ".py",
   "mimetype": "text/x-python",
   "name": "python",
   "nbconvert_exporter": "python",
   "pygments_lexer": "ipython3",
   "version": "3.8.11"
  }
 },
 "nbformat": 4,
 "nbformat_minor": 4
}